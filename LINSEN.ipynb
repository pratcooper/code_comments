{
 "cells": [
  {
   "cell_type": "code",
   "execution_count": 1,
   "metadata": {
    "collapsed": true
   },
   "outputs": [],
   "source": [
    "from lexical_analysis import LINSENnormalizer\n",
    "from lexical_analysis import LexicalAnalyzer"
   ]
  },
  {
   "cell_type": "code",
   "execution_count": 2,
   "metadata": {
    "collapsed": true
   },
   "outputs": [],
   "source": [
    "# method = {'comment':'//Returns the change of a user\\'s beverage purchase, or the user\\'s money if the beverage cannot be made',\n",
    "#           'code_fragment': \"\"\"public synchronized int makeCoffee(int recipeToPurchase, int amtPaid) {\n",
    "#     int change = 0;\n",
    "#     if (getRecipes()[recipeToPurchase] == null) {\n",
    "#       change = amtPaid;\n",
    "#     } else if (getRecipes()[recipeToPurchase].getPrice() <= amtPaid) {\n",
    "#       if (inventory.useIngredients(getRecipes()[recipeToPurchase])) {\n",
    "#         change = amtPaid - getRecipes()[recipeToPurchase].getPrice();\n",
    "#       } else {\n",
    "#         change = amtPaid;\n",
    "#       }\n",
    "#     } else {\n",
    "#       change = amtPaid;\n",
    "#     }\n",
    "#     return change;\"\"\",\n",
    "#           'method_name': 'makeCoffee',\n",
    "#           'project':'CoffeeMaker',\n",
    "#           'src_folder': '/Users/Kamonphop/Desktop/Research_Phd/DR/code-coherence-analysis/media/coffeemaker/1.0/coffeemaker_webzip/extracted/'\n",
    "#          }\n",
    "method = {'comment':\"\"\"\n",
    "                    /**\n",
    "                       * Returns the name of the recipe deleted at the position specified\n",
    "                       * and null if the recipe does not exist.\n",
    "                       * @param recipeToDelete\n",
    "                       * @return String\n",
    "                       */\n",
    "                    \"\"\",\n",
    "         'code_fragment': \"\"\"\n",
    "                         public synchronized String deleteRecipe(int recipeToDelete) {\n",
    "                            if (recipeArray[recipeToDelete] != null) {\n",
    "                              String recipeName = recipeArray[recipeToDelete].getName();\n",
    "                              recipeArray[recipeToDelete] = null;\n",
    "                              return recipeName;\n",
    "                            } else {\n",
    "                      return null;\n",
    "                     \"\"\",\n",
    "         'method_name':'deleteRecipe',\n",
    "         'project':'CoffeeMaker',\n",
    "         'src_folder':'/Users/Kamonphop/Desktop/Research_Phd/DR/code_comments/media/coffeemaker/1.0/coffeemaker_webzip/extracted/'\n",
    "         }"
   ]
  },
  {
   "cell_type": "code",
   "execution_count": 3,
   "metadata": {
    "collapsed": true
   },
   "outputs": [],
   "source": [
    "analyzer = LexicalAnalyzer(method)"
   ]
  },
  {
   "cell_type": "code",
   "execution_count": 4,
   "metadata": {},
   "outputs": [
    {
     "name": "stdout",
     "output_type": "stream",
     "text": [
      "Step 1: Analyze words in Comment\n",
      "Step 2: Analyze words in Source Code\n",
      "Step 3: Remove Duplicates\n",
      "Step 4: LINSEN Normalizer\n",
      "------------------------------------------------------------\n",
      "++++++++++++++++++++++++++++++++++++++++++++++++++++++++++++++++++++++++++++++++++++++++++\n",
      "Running LINSEN\n",
      "b'-------------------------try to clear indexing for targetCode and Comment--------------------------------\\n-------------------------Add as a new index--------------------------------\\nDEBUG --> Index exists: [/Users/Kamonphop/Desktop/Research_Phd/DR/code_comments/media/coffeemaker/1.0/coffeemaker_webzip/extracted/target_sourcefiles/deleterecipe.java]\\n-------------------------try to clear indexing for splitter--------------------------------\\nDEBUG --> Index exists: [/Users/Kamonphop/Desktop/Research_Phd/DR/code_comments/linsen/ConfigurationFiles/English.txt, /Users/Kamonphop/Desktop/Research_Phd/DR/code_comments/linsen/ConfigurationFiles/Informatics.txt, /Users/Kamonphop/Desktop/Research_Phd/DR/code_comments/media/coffeemaker/1.0/coffeemaker_webzip/extracted/CoffeeMaker_Web/src/edu/ncsu/csc326/coffeemaker/CoffeeMaker.java, /Users/Kamonphop/Desktop/Research_Phd/DR/code_comments/media/coffeemaker/1.0/coffeemaker_webzip/extracted/CoffeeMaker_Web/src/edu/ncsu/csc326/coffeemaker/Inventory.java, /Users/Kamonphop/Desktop/Research_Phd/DR/code_comments/media/coffeemaker/1.0/coffeemaker_webzip/extracted/CoffeeMaker_Web/src/edu/ncsu/csc326/coffeemaker/Main.java, /Users/Kamonphop/Desktop/Research_Phd/DR/code_comments/media/coffeemaker/1.0/coffeemaker_webzip/extracted/CoffeeMaker_Web/src/edu/ncsu/csc326/coffeemaker/Recipe.java, /Users/Kamonphop/Desktop/Research_Phd/DR/code_comments/media/coffeemaker/1.0/coffeemaker_webzip/extracted/CoffeeMaker_Web/src/edu/ncsu/csc326/coffeemaker/RecipeBook.java, /Users/Kamonphop/Desktop/Research_Phd/DR/code_comments/media/coffeemaker/1.0/coffeemaker_webzip/extracted/CoffeeMaker_Web/src/edu/ncsu/csc326/coffeemaker/exceptions/InventoryException.java, /Users/Kamonphop/Desktop/Research_Phd/DR/code_comments/media/coffeemaker/1.0/coffeemaker_webzip/extracted/CoffeeMaker_Web/src/edu/ncsu/csc326/coffeemaker/exceptions/RecipeException.java, /Users/Kamonphop/Desktop/Research_Phd/DR/code_comments/media/coffeemaker/1.0/coffeemaker_webzip/extracted/CoffeeMaker_Web/src/edu/ncsu/csc326/coffeemaker/target_sourcefiles/makecoffee.java, /Users/Kamonphop/Desktop/Research_Phd/DR/code_comments/media/coffeemaker/1.0/coffeemaker_webzip/extracted/target_sourcefiles/deleterecipe.java]\\n-------------------------Now creating the splitter object--------------------------------\\n-------- Done --------\\n'\n",
      "++++++++++++++++++++++++++++++++++++++++++++++++++++++++++++++++++++++++++++++++++++++++++\n",
      "After LINSEN! Normalization Map:  defaultdict(<class 'list'>, {'deleteRecipe': ['delete', 'recipe'], 'getName': ['get', 'name'], 'int': ['integer'], 'param': ['parameter'], 'recipeArray': ['recipe', 'array'], 'recipeName': ['recipe', 'name'], 'recipeToDelete': ['recipe', 'to', 'delete']})\n",
      "========================  Result  ========================\n",
      "-------Comment Tokens:-------\n",
      "return name recip delet posit specifi null recip exist paramet recip to delet string\n",
      "-------Code Tokens:-------\n",
      "string delet recip integ recip to delet recip array recip to delet null string recip name recip array recip to delet get name recip array recip to delet null recip name null\n"
     ]
    }
   ],
   "source": [
    "analyzer.analyse_textual_information()"
   ]
  },
  {
   "cell_type": "code",
   "execution_count": null,
   "metadata": {
    "collapsed": true
   },
   "outputs": [],
   "source": []
  }
 ],
 "metadata": {
  "kernelspec": {
   "display_name": "Python 3",
   "language": "python",
   "name": "python3"
  },
  "language_info": {
   "codemirror_mode": {
    "name": "ipython",
    "version": 3
   },
   "file_extension": ".py",
   "mimetype": "text/x-python",
   "name": "python",
   "nbconvert_exporter": "python",
   "pygments_lexer": "ipython3",
   "version": "3.6.1"
  }
 },
 "nbformat": 4,
 "nbformat_minor": 2
}
